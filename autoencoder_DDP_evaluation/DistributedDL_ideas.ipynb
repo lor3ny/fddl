{
  "cells": [
    {
      "cell_type": "code",
      "execution_count": 1,
      "metadata": {
        "id": "Y7GJtnWf6hWa"
      },
      "outputs": [],
      "source": [
        "import torch\n",
        "import torch.nn as nn\n",
        "import numpy as np\n",
        "import torch.optim as optim\n",
        "from torchvision import datasets, transforms\n",
        "from torch.utils.data import DataLoader\n",
        "import matplotlib.pyplot as plt"
      ]
    },
    {
      "cell_type": "code",
      "execution_count": 2,
      "metadata": {
        "id": "ER6Ehxa7yVeH"
      },
      "outputs": [],
      "source": [
        "class Autoencoder(nn.Module):\n",
        "    def __init__(self, input_dim, hidden_dim):\n",
        "        super(Autoencoder, self).__init__()\n",
        "        self.encoder = nn.Sequential(\n",
        "            nn.Linear(input_dim, 128),\n",
        "            nn.ReLU(True),\n",
        "            nn.Linear(128, hidden_dim),\n",
        "            nn.ReLU(True),\n",
        "        )\n",
        "        self.decoder = nn.Sequential(\n",
        "            nn.Linear(hidden_dim, 128),\n",
        "            nn.ReLU(True),\n",
        "            nn.Linear(128, input_dim),\n",
        "            nn.Sigmoid()\n",
        "        )\n",
        "\n",
        "    def forward(self, x):\n",
        "        encoded = self.encoder(x)\n",
        "        decoded = self.decoder(encoded)\n",
        "        return decoded\n",
        "\n",
        "    def encode(self, x):\n",
        "        return self.encoder(x)"
      ]
    },
    {
      "cell_type": "code",
      "execution_count": 3,
      "metadata": {
        "id": "LFI-kmM56YLd"
      },
      "outputs": [],
      "source": [
        "def load_data() -> tuple:\n",
        "    # Transform to tensor and normalize\n",
        "    transform = transforms.ToTensor()\n",
        "\n",
        "    # Download and load the training and test sets\n",
        "    trainset = datasets.MNIST(root='./data', train=True, download=True, transform=transform)\n",
        "    testset = datasets.MNIST(root='./data', train=False, download=True, transform=transform)\n",
        "\n",
        "    trainloader = DataLoader(trainset, batch_size=64, shuffle=True)\n",
        "    testloader = DataLoader(testset, batch_size=64, shuffle=False)\n",
        "\n",
        "    return trainloader, testloader"
      ]
    },
    {
      "cell_type": "code",
      "execution_count": 4,
      "metadata": {
        "colab": {
          "base_uri": "https://localhost:8080/"
        },
        "id": "8Thw0cT4zW3M",
        "outputId": "1496628a-06f9-460c-b39a-073f46f3ff3d"
      },
      "outputs": [
        {
          "name": "stdout",
          "output_type": "stream",
          "text": [
            "784\n",
            "32\n"
          ]
        }
      ],
      "source": [
        "# DIMENSIONS\n",
        "x, t = load_data()\n",
        "\n",
        "img_0 = x.dataset[0][0]\n",
        "x_linear_size = img_0.view(-1).shape[0]\n",
        "latent_linear_size: int = 32\n",
        "\n",
        "print(x_linear_size)\n",
        "print(latent_linear_size)"
      ]
    },
    {
      "cell_type": "code",
      "execution_count": 10,
      "metadata": {
        "id": "Da8q9hYJ5LsM"
      },
      "outputs": [
        {
          "name": "stdout",
          "output_type": "stream",
          "text": [
            "True\n"
          ]
        }
      ],
      "source": [
        "# TRAINING\n",
        "\n",
        "model = Autoencoder(x_linear_size, latent_linear_size)\n",
        "criterion = nn.MSELoss()\n",
        "optimizer = optim.Adam(model.parameters(), lr=1e-3)\n",
        "\n",
        "device = torch.device('cuda')\n",
        "print(torch.cuda.is_available())\n",
        "model.to(device)\n",
        "\n",
        "# 4. Training loop\n",
        "epochs = 5\n",
        "for epoch in range(epochs):\n",
        "    for images, _ in x:\n",
        "        inputs = images.view(-1, 28*28).to(device)\n",
        "        outputs = model(inputs)\n",
        "        loss = criterion(outputs, inputs)\n",
        "\n",
        "        optimizer.zero_grad()\n",
        "        loss.backward()\n",
        "        optimizer.step()\n",
        "\n",
        "    #print(f'Epoch [{epoch+1}/{epochs}], Loss: {loss.item():.4f}')"
      ]
    },
    {
      "cell_type": "code",
      "execution_count": 19,
      "metadata": {
        "colab": {
          "base_uri": "https://localhost:8080/",
          "height": 284
        },
        "id": "kQjHI-Rb0Ugo",
        "outputId": "f8889042-01c7-488c-9347-1dd221f830fa"
      },
      "outputs": [
        {
          "data": {
            "image/png": "[encoded data removed]",
            "text/plain": [
              "<Figure size 640x480 with 2 Axes>"
            ]
          },
          "metadata": {},
          "output_type": "display_data"
        }
      ],
      "source": [
        "# INFERENCE\n",
        "\n",
        "model.eval()\n",
        "with torch.no_grad():\n",
        "    img, _ = x.dataset[110]\n",
        "    img_linear = img.view(-1).unsqueeze(0).to(device)\n",
        "\n",
        "    output = model(img_linear)\n",
        "\n",
        "    # Visualize original and reconstructed image\n",
        "    fig, axs = plt.subplots(1, 2)\n",
        "    axs[0].imshow(img.squeeze(), cmap='gray')\n",
        "    axs[0].set_title('Original')\n",
        "\n",
        "    axs[1].imshow(output[0].view(28, 28).cpu(), cmap='gray')\n",
        "    axs[1].set_title('Reconstructed')\n",
        "    for ax in axs: ax.axis('off')\n",
        "    plt.show()"
      ]
    }
  ],
  "metadata": {
    "accelerator": "GPU",
    "colab": {
      "gpuType": "T4",
      "provenance": []
    },
    "kernelspec": {
      "display_name": "Python 3",
      "name": "python3"
    },
    "language_info": {
      "codemirror_mode": {
        "name": "ipython",
        "version": 3
      },
      "file_extension": ".py",
      "mimetype": "text/x-python",
      "name": "python",
      "nbconvert_exporter": "python",
      "pygments_lexer": "ipython3",
      "version": "3.13.1"
    }
  },
  "nbformat": 4,
  "nbformat_minor": 0
}
