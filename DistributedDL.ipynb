{
  "nbformat": 4,
  "nbformat_minor": 0,
  "metadata": {
    "colab": {
      "provenance": [],
      "gpuType": "T4"
    },
    "kernelspec": {
      "name": "python3",
      "display_name": "Python 3"
    },
    "language_info": {
      "name": "python"
    },
    "accelerator": "GPU"
  },
  "cells": [
    {
      "cell_type": "code",
      "source": [
        "import torch\n",
        "import torch.nn as nn\n",
        "import numpy as np\n",
        "import torch.optim as optim\n",
        "from torchvision import datasets, transforms\n",
        "from torch.utils.data import DataLoader\n",
        "import matplotlib.pyplot as plt"
      ],
      "metadata": {
        "id": "Y7GJtnWf6hWa"
      },
      "execution_count": 2,
      "outputs": []
    },
    {
      "cell_type": "code",
      "execution_count": 27,
      "metadata": {
        "id": "ER6Ehxa7yVeH"
      },
      "outputs": [],
      "source": [
        "class Autoencoder(nn.Module):\n",
        "    def __init__(self, input_dim, hidden_dim):\n",
        "        super(Autoencoder, self).__init__()\n",
        "        self.encoder = nn.Sequential(\n",
        "            nn.Linear(input_dim, 128),\n",
        "            nn.ReLU(True),\n",
        "            nn.Linear(128, hidden_dim),\n",
        "            nn.ReLU(True),\n",
        "        )\n",
        "        self.decoder = nn.Sequential(\n",
        "            nn.Linear(hidden_dim, 128),\n",
        "            nn.ReLU(True),\n",
        "            nn.Linear(128, input_dim),\n",
        "            nn.Sigmoid()\n",
        "        )\n",
        "\n",
        "    def forward(self, x):\n",
        "        encoded = self.encoder(x)\n",
        "        decoded = self.decoder(encoded)\n",
        "        return decoded\n",
        "\n",
        "    def encode(self, x):\n",
        "        return self.encoder(x)"
      ]
    },
    {
      "cell_type": "code",
      "source": [
        "def load_data() -> tuple:\n",
        "    # Transform to tensor and normalize\n",
        "    transform = transforms.ToTensor()\n",
        "\n",
        "    # Download and load the training and test sets\n",
        "    trainset = datasets.MNIST(root='./data', train=True, download=True, transform=transform)\n",
        "    testset = datasets.MNIST(root='./data', train=False, download=True, transform=transform)\n",
        "\n",
        "    trainloader = DataLoader(trainset, batch_size=64, shuffle=True)\n",
        "    testloader = DataLoader(testset, batch_size=64, shuffle=False)\n",
        "\n",
        "    return trainloader, testloader"
      ],
      "metadata": {
        "id": "LFI-kmM56YLd"
      },
      "execution_count": 28,
      "outputs": []
    },
    {
      "cell_type": "code",
      "source": [
        "# DIMENSIONS\n",
        "\n",
        "x, t = load_data()\n",
        "\n",
        "img_0 = x.dataset[0][0]\n",
        "x_linear_size = img_0.view(-1).shape[0]\n",
        "latent_linear_size: int = 32\n",
        "\n",
        "print(x_linear_size)\n",
        "print(latent_linear_size)"
      ],
      "metadata": {
        "colab": {
          "base_uri": "https://localhost:8080/"
        },
        "id": "8Thw0cT4zW3M",
        "outputId": "1496628a-06f9-460c-b39a-073f46f3ff3d"
      },
      "execution_count": 36,
      "outputs": [
        {
          "output_type": "stream",
          "name": "stdout",
          "text": [
            "784\n",
            "32\n"
          ]
        }
      ]
    },
    {
      "cell_type": "code",
      "source": [
        "# MODEL DEFINITION\n",
        "\n",
        "model = Autoencoder(x_linear_size, latent_linear_size)\n",
        "print(model)"
      ],
      "metadata": {
        "colab": {
          "base_uri": "https://localhost:8080/"
        },
        "id": "BfoYhtgaxf_i",
        "outputId": "99bca653-5278-42cb-c942-754921c6e43e"
      },
      "execution_count": 39,
      "outputs": [
        {
          "output_type": "stream",
          "name": "stdout",
          "text": [
            "Autoencoder(\n",
            "  (encoder): Sequential(\n",
            "    (0): Linear(in_features=784, out_features=128, bias=True)\n",
            "    (1): ReLU(inplace=True)\n",
            "    (2): Linear(in_features=128, out_features=32, bias=True)\n",
            "    (3): ReLU(inplace=True)\n",
            "  )\n",
            "  (decoder): Sequential(\n",
            "    (0): Linear(in_features=32, out_features=128, bias=True)\n",
            "    (1): ReLU(inplace=True)\n",
            "    (2): Linear(in_features=128, out_features=784, bias=True)\n",
            "    (3): Sigmoid()\n",
            "  )\n",
            ")\n"
          ]
        }
      ]
    },
    {
      "cell_type": "code",
      "source": [
        "# TRAINING\n",
        "\n",
        "model = Autoencoder(x_linear_size, latent_linear_size)\n",
        "criterion = nn.MSELoss()\n",
        "optimizer = optim.Adam(model.parameters(), lr=1e-3)\n",
        "\n",
        "# 4. Training loop\n",
        "epochs = 5\n",
        "for epoch in range(epochs):\n",
        "    for images, _ in x:\n",
        "        outputs = model(images.view(-1, 28*28))\n",
        "        loss = criterion(outputs, images.view(-1, 28*28))\n",
        "\n",
        "        optimizer.zero_grad()\n",
        "        loss.backward()\n",
        "        optimizer.step()\n",
        "\n",
        "    #print(f'Epoch [{epoch+1}/{epochs}], Loss: {loss.item():.4f}')"
      ],
      "metadata": {
        "id": "Da8q9hYJ5LsM"
      },
      "execution_count": 40,
      "outputs": []
    },
    {
      "cell_type": "code",
      "source": [
        "# INFERENCE\n",
        "\n",
        "model.eval()\n",
        "with torch.no_grad():\n",
        "    img, _ = x.dataset[6]\n",
        "\n",
        "    img_linear = img.view(-1).unsqueeze(0)\n",
        "\n",
        "    output = model(img_linear)\n",
        "\n",
        "    # Visualize original and reconstructed image\n",
        "    fig, axs = plt.subplots(1, 2)\n",
        "    axs[0].imshow(img.squeeze(), cmap='gray')\n",
        "    axs[0].set_title('Original')\n",
        "\n",
        "    axs[1].imshow(output[0].view(28, 28), cmap='gray')\n",
        "    axs[1].set_title('Reconstructed')\n",
        "    for ax in axs: ax.axis('off')\n",
        "    plt.show()"
      ],
      "metadata": {
        "colab": {
          "base_uri": "https://localhost:8080/",
          "height": 284
        },
        "id": "kQjHI-Rb0Ugo",
        "outputId": "f8889042-01c7-488c-9347-1dd221f830fa"
      },
      "execution_count": 50,
      "outputs": [
        {
          "output_type": "display_data",
          "data": {
            "text/plain": [
              "<Figure size 640x480 with 2 Axes>"
            ],
            "image/png": "[encoded data removed]"
          },
          "metadata": {}
        }
      ]
    }
  ]
}